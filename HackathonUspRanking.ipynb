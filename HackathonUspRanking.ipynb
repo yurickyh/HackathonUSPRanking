{
 "cells": [
  {
   "cell_type": "markdown",
   "metadata": {},
   "source": [
    "# Classification"
   ]
  },
  {
   "cell_type": "markdown",
   "metadata": {},
   "source": [
    "Classification is the process responsible for categorizing a given data to a class/category. It is often described as the task of finding a function that yields the best results to map an input value X to a class representing the output Y. In order to achieve the desired function, the classifier uses some training data to extract patterns to be used for classifying. For this project, classification is one of two steps (classification and ranking) to decide which student is approved or reject to participate in Hackaton USP. "
   ]
  },
  {
   "cell_type": "markdown",
   "metadata": {},
   "source": [
    "# Regression"
   ]
  },
  {
   "cell_type": "markdown",
   "metadata": {},
   "source": [
    "Differently than Classification, Regression is a method that predicts a continuous output.  In summary, given an input data X, a Regression algorithm would process it to predict a continuous/real output. It is also a supervised technique and more suitable for the purpose of this project. Using regression models, it is possible to predict a real number representing the score of a person, which will be used to create the ranking."
   ]
  },
  {
   "cell_type": "markdown",
   "metadata": {},
   "source": [
    "# Learning To Rank (LTR)"
   ]
  },
  {
   "cell_type": "markdown",
   "metadata": {},
   "source": []
  },
  {
   "cell_type": "markdown",
   "metadata": {},
   "source": [
    "# Reference List"
   ]
  },
  {
   "cell_type": "markdown",
   "metadata": {},
   "source": [
    "- https://towardsdatascience.com/machine-learning-classifiers-a5cc4e1b0623\n",
    "- https://medium.com/@Mandysidana/machine-learning-types-of-classification-9497bd4f2e14\n",
    "- https://www.geeksforgeeks.org/regression-classification-supervised-machine-learning/\n",
    "- https://towardsdatascience.com/learning-to-rank-with-python-scikit-learn-327a5cfd81f\n",
    "- https://medium.com/@nikhilbd/intuitive-explanation-of-learning-to-rank-and-ranknet-lambdarank-and-lambdamart-fe1e17fac418\n",
    "- https://medium.com/datadriveninvestor/regression-in-machine-learning-296caae933ec"
   ]
  }
 ],
 "metadata": {
  "kernelspec": {
   "display_name": "Python 2",
   "language": "python",
   "name": "python2"
  },
  "language_info": {
   "codemirror_mode": {
    "name": "ipython",
    "version": 2
   },
   "file_extension": ".py",
   "mimetype": "text/x-python",
   "name": "python",
   "nbconvert_exporter": "python",
   "pygments_lexer": "ipython2",
   "version": "2.7.17"
  }
 },
 "nbformat": 4,
 "nbformat_minor": 2
}
