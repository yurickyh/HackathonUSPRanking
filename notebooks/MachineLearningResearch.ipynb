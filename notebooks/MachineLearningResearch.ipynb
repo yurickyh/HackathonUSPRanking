{
 "cells": [
  {
   "cell_type": "markdown",
   "metadata": {},
   "source": [
    "# Classification"
   ]
  },
  {
   "cell_type": "markdown",
   "metadata": {},
   "source": [
    "Classification is the process responsible for categorizing a given data to a class/category. It is often described as the task of finding a function that yields the best results to map an input value X to a class representing the output Y. In order to achieve the desired function, the classifier uses some training data to extract patterns to be used for classifying. For this project, classification is one of two steps (classification and ranking) to decide which student is approved or reject to participate in Hackaton USP. "
   ]
  },
  {
   "cell_type": "markdown",
   "metadata": {},
   "source": [
    "# Regression"
   ]
  },
  {
   "cell_type": "markdown",
   "metadata": {},
   "source": [
    "Differently than Classification, Regression is a method that predicts a continuous output.  In summary, given an input data X, a Regression algorithm would process it to predict a continuous/real output. It is also a supervised technique and more suitable for the purpose of this project. Using regression models, it is possible to predict a real number representing the score of a person, which will be used to create the ranking."
   ]
  },
  {
   "cell_type": "markdown",
   "metadata": {},
   "source": [
    "## Logistic Regression"
   ]
  },
  {
   "cell_type": "markdown",
   "metadata": {},
   "source": [
    "As a regression algorithm, the Logistic Regression uses the statistical model based on logistic function in order to predict the value of a categorical dependent variable. The idea is not to rank the registration of the candidates, just to classify the candidates that were selected to the HackathonUSP or not. In this case, the Binary Logistic Regression will be used once the student can be IN or OUT of the HackathonUSP in a specific edition."
   ]
  },
  {
   "cell_type": "markdown",
   "metadata": {},
   "source": [
    "## Support Vector Machines (SVM)"
   ]
  },
  {
   "cell_type": "markdown",
   "metadata": {},
   "source": [
    "Consider hyperplanes with n dimensions, where n is the number of features chosen to build the model. Support vector machines is a method that finds the hyperplane that better splits one category to another.\n",
    "\n",
    "![support_vector_machines](assets/images/svm.png)\n",
    "\n",
    "<center>Result of the SVM method (image extracted from [1])</center>\n",
    "\n",
    "There are many hyperplanes that fits the idea of an output of the Support Vector Machines method, but the output of this method is the one that has maximum distance between the points of different categories that are closer to the hyperplane. This distance is called margin, and it is referred on the image. That said, it is notable that the points that are closer to the hyperplane, named as support vectors, are extremely important and define the hyperplane that has best margin."
   ]
  },
  {
   "cell_type": "markdown",
   "metadata": {},
   "source": [
    "# Learning To Rank (LTR)"
   ]
  },
  {
   "cell_type": "markdown",
   "metadata": {},
   "source": [
    "Learning To Rank is a specific technique to generate a ranked list of items. The idea is that LTR ignores the precision of a final score of each item, the final index is what matters. The input of this method is slightly different because there are a list of items and a list defining the index of each item. This method is the best fit for the purpose of this project and it generates the perfect output."
   ]
  },
  {
   "cell_type": "markdown",
   "metadata": {},
   "source": [
    "# Reference List"
   ]
  },
  {
   "cell_type": "markdown",
   "metadata": {},
   "source": [
    "- https://towardsdatascience.com/machine-learning-classifiers-a5cc4e1b0623\n",
    "- https://medium.com/@Mandysidana/machine-learning-types-of-classification-9497bd4f2e14\n",
    "- https://www.geeksforgeeks.org/regression-classification-supervised-machine-learning/\n",
    "- https://towardsdatascience.com/learning-to-rank-with-python-scikit-learn-327a5cfd81f\n",
    "- https://medium.com/@nikhilbd/intuitive-explanation-of-learning-to-rank-and-ranknet-lambdarank-and-lambdamart-fe1e17fac418\n",
    "- https://medium.com/datadriveninvestor/regression-in-machine-learning-296caae933ec\n",
    "- https://towardsdatascience.com/logistic-regression-detailed-overview-46c4da4303bc\n",
    "- https://towardsdatascience.com/building-a-logistic-regression-in-python-step-by-step-becd4d56c9c8\n",
    "- https://towardsdatascience.com/support-vector-machine-introduction-to-machine-learning-algorithms-934a444fca47\n",
    "- https://www.datacamp.com/community/tutorials/svm-classification-scikit-learn-python"
   ]
  },
  {
   "cell_type": "markdown",
   "metadata": {},
   "source": [
    "# Image Reference List"
   ]
  },
  {
   "cell_type": "markdown",
   "metadata": {},
   "source": [
    "[1] https://towardsdatascience.com/support-vector-machine-introduction-to-machine-learning-algorithms-934a444fca47"
   ]
  }
 ],
 "metadata": {
  "kernelspec": {
   "display_name": "Python 3",
   "language": "python",
   "name": "python3"
  },
  "language_info": {
   "codemirror_mode": {
    "name": "ipython",
    "version": 2
   },
   "file_extension": ".py",
   "mimetype": "text/x-python",
   "name": "python",
   "nbconvert_exporter": "python",
   "pygments_lexer": "ipython2",
   "version": "2.7.17"
  }
 },
 "nbformat": 4,
 "nbformat_minor": 2
}
